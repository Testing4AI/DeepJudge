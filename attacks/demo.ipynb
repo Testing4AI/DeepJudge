{
 "cells": [
  {
   "cell_type": "code",
   "execution_count": 1,
   "metadata": {},
   "outputs": [],
   "source": [
    "import os\n",
    "import tensorflow as tf\n",
    "tf.compat.v1.logging.set_verbosity(tf.compat.v1.logging.ERROR)\n",
    "from tensorflow import keras\n",
    "from tensorflow.keras.models import Model, load_model\n",
    "from tensorflow.keras.utils import to_categorical\n",
    "from tensorflow.keras.datasets import cifar10, mnist, fashion_mnist\n",
    "import numpy as np\n",
    "import time\n",
    "import math\n",
    "import random\n",
    "\n",
    "os.environ['CUDA_VISIBLE_DEVICES'] = '1'\n",
    "gpus = tf.config.experimental.list_physical_devices('GPU')\n",
    "if gpus:\n",
    "    try:\n",
    "        for gpu in gpus:\n",
    "            tf.config.experimental.set_memory_growth(gpu, True)\n",
    "    except RuntimeError as e:\n",
    "        print(e)"
   ]
  },
  {
   "cell_type": "code",
   "execution_count": 2,
   "metadata": {},
   "outputs": [],
   "source": [
    "# fine-tuning and weight pruning attacks. \n",
    "from tune import FTLL, FTAL, RTAL, Prune \n",
    "# extraction attacks. \n",
    "from extraction import BlackboxModel, KnockoffClient, JBAClient, ESAClient "
   ]
  },
  {
   "cell_type": "code",
   "execution_count": 3,
   "metadata": {},
   "outputs": [],
   "source": [
    "# load and pre-process the mnist dataset. \n",
    "num_classes = 10\n",
    "(x_train, y_train), (x_test, y_test) = mnist.load_data()\n",
    "x_train = x_train.astype('float32') / 255\n",
    "x_test = x_test.astype('float32') / 255\n",
    "x_train = np.reshape(x_train, (len(x_train), 28, 28, 1))\n",
    "x_test = np.reshape(x_test, (len(x_test), 28, 28, 1))\n",
    "y_train = to_categorical(y_train, num_classes)\n",
    "y_test = to_categorical(y_test, num_classes)"
   ]
  },
  {
   "cell_type": "code",
   "execution_count": 4,
   "metadata": {},
   "outputs": [],
   "source": [
    "# sample a subset of training data for tuning.\n",
    "NUMS = 10000\n",
    "idx = np.random.choice(30000, NUMS, replace=False) + 30000\n",
    "x_sub, y_sub = x_train[idx], y_train[idx]"
   ]
  },
  {
   "cell_type": "code",
   "execution_count": null,
   "metadata": {},
   "outputs": [],
   "source": []
  },
  {
   "cell_type": "code",
   "execution_count": 5,
   "metadata": {},
   "outputs": [
    {
     "name": "stdout",
     "output_type": "stream",
     "text": [
      "FTAL: Using real-time data augmentation.\n",
      "Done\n"
     ]
    }
   ],
   "source": [
    "victim_model = load_model('./example/mnist_lenet5.h5')\n",
    "tuned_model = FTAL(victim_model, x_sub, y_sub, aug=True)\n",
    "# tuned_model.evaluate(x_test, y_test)"
   ]
  },
  {
   "cell_type": "code",
   "execution_count": null,
   "metadata": {},
   "outputs": [],
   "source": []
  },
  {
   "cell_type": "code",
   "execution_count": 6,
   "metadata": {},
   "outputs": [
    {
     "name": "stdout",
     "output_type": "stream",
     "text": [
      "Prune: Using real-time data augmentation.\n",
      "Done\n"
     ]
    }
   ],
   "source": [
    "victim_model = load_model('./example/mnist_lenet5.h5')\n",
    "pruned_model = Prune(victim_model, x_sub, y_sub, r=0.6, aug=True) # weight pruning rate 60%"
   ]
  },
  {
   "cell_type": "code",
   "execution_count": null,
   "metadata": {},
   "outputs": [],
   "source": []
  },
  {
   "cell_type": "code",
   "execution_count": 7,
   "metadata": {},
   "outputs": [],
   "source": [
    "import sys\n",
    "sys.path.append('..')\n",
    "from utils.lenet5 import Lenet5\n",
    "\n",
    "victim_model = load_model('./example/mnist_lenet5.h5')\n",
    "blackbox_model = BlackboxModel(victim_model) "
   ]
  },
  {
   "cell_type": "code",
   "execution_count": 8,
   "metadata": {},
   "outputs": [],
   "source": [
    "# JBA extraction\n",
    "SEED_SIZE = 150\n",
    "idx = np.random.choice(30000, size=SEED_SIZE, replace=False)\n",
    "x_seeds = x_train[idx]\n",
    "\n",
    "substitute_model = Lenet5((28,28,1), 10)\n",
    "jba = JBAClient(x_seeds=x_seeds, extract_round=6, scale_const=0.01, train_epoch=10)\n",
    "extracted_model = jba.extract(substitute_model, blackbox_model)\n",
    "# extracted_model.evaluate(x_test, y_test)"
   ]
  },
  {
   "cell_type": "code",
   "execution_count": null,
   "metadata": {},
   "outputs": [],
   "source": []
  },
  {
   "cell_type": "code",
   "execution_count": 9,
   "metadata": {},
   "outputs": [
    {
     "name": "stdout",
     "output_type": "stream",
     "text": [
      "    Total Extraction Epochs: 10\n",
      "    Synthesis X size: (20000, 28, 28, 1)\n"
     ]
    }
   ],
   "source": [
    "# ESA extraction\n",
    "substitute_model = Lenet5((28,28,1), 10)\n",
    "esa = ESAClient(extract_epoch=10, syns_num=20000, syns_epoch=30, syns_step=0.01, train_epoch=10)\n",
    "extracted_model = esa.extract(substitute_model, blackbox_model)\n",
    "# extracted_model.evaluate(x_test, y_test)"
   ]
  },
  {
   "cell_type": "code",
   "execution_count": null,
   "metadata": {},
   "outputs": [],
   "source": []
  },
  {
   "cell_type": "code",
   "execution_count": 10,
   "metadata": {},
   "outputs": [
    {
     "name": "stdout",
     "output_type": "stream",
     "text": [
      "    Random sampling size: 30000\n"
     ]
    }
   ],
   "source": [
    "# Knockoff extraction\n",
    "(x_train_sub, y_train_sub), (x_test_sub, y_test_sub) = fashion_mnist.load_data()\n",
    "x_train_sub = x_train_sub.astype('float32') / 255\n",
    "x_train_sub = np.reshape(x_train_sub, (len(x_train_sub), 28, 28, 1))\n",
    "\n",
    "substitute_model = Lenet5((28,28,1), 10)\n",
    "ko = KnockoffClient(x_sub=x_train_sub, size=0.5, train_epoch=10)\n",
    "extracted_model = ko.extract(substitute_model, blackbox_model)\n",
    "# extracted_model.evaluate(x_test, y_test)"
   ]
  },
  {
   "cell_type": "code",
   "execution_count": null,
   "metadata": {},
   "outputs": [],
   "source": []
  }
 ],
 "metadata": {
  "kernelspec": {
   "display_name": "<conda3:tf2gpu>",
   "language": "python",
   "name": "tf2gpu"
  },
  "language_info": {
   "codemirror_mode": {
    "name": "ipython",
    "version": 3
   },
   "file_extension": ".py",
   "mimetype": "text/x-python",
   "name": "python",
   "nbconvert_exporter": "python",
   "pygments_lexer": "ipython3",
   "version": "3.6.10"
  }
 },
 "nbformat": 4,
 "nbformat_minor": 2
}
